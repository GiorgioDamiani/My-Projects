{
 "cells": [
  {
   "cell_type": "markdown",
   "metadata": {},
   "source": [
    "# &nbsp;\n",
    "# &nbsp;\n",
    "\n",
    "<font size=\"8\" color=\"#00A0B2\"  face=\"verdana\"> <B>Concept</B></font> "
   ]
  },
  {
   "cell_type": "markdown",
   "metadata": {},
   "source": [
    "<font size=\"6\" color=\"#00A0B2\"  face=\"verdana\"> <B>Projects</B></font> "
   ]
  },
  {
   "cell_type": "markdown",
   "metadata": {},
   "source": [
    "#### Program: guess what I'm reading\n",
    "#### short_str in long_str\n",
    "\n",
    "1. **[ ]** get user **`input`** for a single word describing something that can be read \n",
    " save in a variable called **can_read**  \n",
    " e.g. - \"website\", \"newspaper\", \"blog\", \"textbook\"  \n",
    " &nbsp;  \n",
    "2. **[ ]** get user **`input`** for 3 things can be read  \n",
    " save in a variable called **can_read_things**  \n",
    "&nbsp;  \n",
    "\n",
    "3. **[ ]** print **`true`** if the **can_read** string is found  \n",
    " **in** the **can_read_things** string variable\n",
    "  \n",
    "*example of program input and output*  \n",
    "[![01 02 practice Allergy-input](https://iajupyterprodblobs.blob.core.windows.net/imagecontainer/guess_reading.gif) ](https://1drv.ms/i/s!Am_KPRosgtaij7A_G6RtDlWZeYA3ZA)\n"
   ]
  },
  {
   "cell_type": "code",
   "execution_count": null,
   "metadata": {},
   "outputs": [],
   "source": [
    "# project: \"guess what I'm reading\"\n",
    "\n",
    "# 1[ ] get 1 word input for can_read variable\n",
    "#can_read=\"book\",\"newspaper\",\"blog\",\"text\",\"jubyter notebook\",\"news\",\"notes\",\"website\"\n",
    "can_read=input(\"Enter 1 item that can be read: \")\n",
    "print()\n",
    "print(\"You write: \" , can_read.capitalize())\n",
    "\n",
    "# 2[ ] get 3 things input for can_read_things variable\n",
    "can_read_things=input(\"Enter 3 items that can be read: \")\n",
    "print()\n",
    "print(\"You write: \", can_read_things.title())\n",
    "# 3[ ] print True if can_read is in can_read_things\n",
    "print()\n",
    "print(\"Item found: \" , can_read.lower() in can_read_things.lower())\n",
    "\n",
    "# [] challenge: format the output to read \"item found = True\" (or false)\n",
    "# hint: look print formatting exercises\n",
    "\n"
   ]
  },
  {
   "cell_type": "markdown",
   "metadata": {},
   "source": [
    "#### Program: Allergy Check\n",
    "\n",
    "1. **[ ]** get user **`input`** for categories of food eaten in the last 24 hours  \n",
    " save in a variable called **input_test**  \n",
    " *example input*\n",
    " [![01 02 practice Allergy-input](https://iajupyterprodblobs.blob.core.windows.net/imagecontainer/eaten_input.gif) ](https://1drv.ms/i/s!Am_KPRosgtaij65qzFD5CGvv95-ijg)\n",
    "&nbsp;  \n",
    "2. **[ ]** print **`True`** if \"dairy\" is in the **input_test** string  \n",
    "**[ ]** Test the code so far  \n",
    "&nbsp;\n",
    "3. **[ ]** modify the print statement to output similar to below  \n",
    "*example output*\n",
    "[![01 02 Allergy output](https://iajupyterprodblobs.blob.core.windows.net/imagecontainer/eaten_output.gif) ](https://1drv.ms/i/s!Am_KPRosgtaij65rET-wmlpCdMX7CQ)  \n",
    "Test the code so far trying input including the string \"dairy\" and without  \n",
    "&nbsp;  \n",
    "\n",
    "4. **[ ]** repeat the process checking the input for \"nuts\", **challenge** add \"Seafood\" and \"chocolate\"  \n",
    "**[ ]** Test your code  \n",
    "&nbsp;  \n",
    "  \n",
    "5. **[ ] challenge:** make your code work for input regardless of case, e.g. - print **`True`** for \"Nuts\", \"NuTs\", \"NUTS\" or \"nuts\" "
   ]
  },
  {
   "cell_type": "code",
   "execution_count": null,
   "metadata": {},
   "outputs": [],
   "source": [
    "# Allergy check \n",
    "\n",
    "# 1[ ] get input for test\n",
    "input_test=input(\"Enter food categories eaten in last 24 hrs: \")\n",
    "print()\n",
    "print(\"You eaten these food categories the last 24 hours: \", input_test.title())\n",
    "\n",
    "# 2/3[ ] print True if \"dairy\" is in the input or False if not\n",
    "print()\n",
    "print('It is',\"dairy\".lower()  in input_test.lower(), 'that' , input_test.title(), 'contains \"dairy\"')\n",
    "\n",
    "# 4[ ] Check if \"nuts\" are in the input\n",
    "print('It is',\"nuts\".lower()  in input_test.lower(), 'that' ,input_test.title(), 'contains \"nuts\"')\n",
    "# 4+[ ] Challenge: Check if \"seafood\" is in the input\n",
    "print('It is',\"seafood\".lower()  in input_test.lower(), 'that' ,input_test.title(), 'contains \"seafood\"')\n",
    "# 4+[ ] Challenge: Check if \"chocolate\" is in the input\n",
    "print('It is',\"chocolate\".lower()  in input_test.lower(), 'that' , input_test.title(), 'contains \"chocolate\"')"
   ]
  },
  {
   "cell_type": "markdown",
   "metadata": {},
   "source": [
    "\n",
    "####  Functions with a ``return`` value\n",
    "\n",
    "- **`return`** plus **object** (*variable/parameter* OR *string/argument* OR *number/argument*)\n",
    "- **`return`** keyword in a function *returns* a value after *exiting* the function "
   ]
  },
  {
   "cell_type": "markdown",
   "metadata": {},
   "source": [
    "#### Program: hat_available\n",
    "The program should check for availability and print a statement informing of availability\n",
    "#### create this program with a ``Boolean``  function `hat_available()`"
   ]
  },
  {
   "cell_type": "markdown",
   "metadata": {},
   "source": [
    " Doctor: a function that adds the \"Doctor\" title to a name\n",
    "- Define function `make_doctor()`&nbsp; that takes a parameter `name`\n",
    "- get user **input** for variable **`full_name`**\n",
    "- call the function using `full_name` &nbsp; as argument\n",
    "- print the return value"
   ]
  },
  {
   "cell_type": "code",
   "execution_count": null,
   "metadata": {},
   "outputs": [],
   "source": [
    "def hat_available(color):\n",
    "    hat_colors = 'black, red, blue, green, white, grey, brown, pink'\n",
    "    # return Boolean\n",
    "    return(color.lower() in hat_colors)\n",
    "\n",
    "have_hat = hat_available('green')  \n",
    "  \n",
    "print('hat available is', have_hat)"
   ]
  },
  {
   "cell_type": "code",
   "execution_count": null,
   "metadata": {},
   "outputs": [],
   "source": [
    "# create and call make_doctor() with full_name argument from user input - then print the return value\n",
    "def make_doctor(announce ):\n",
    "     full_name =\"Your name is: \" + announce + your_name.title()\n",
    "     return full_name\n",
    "\n",
    "your_name = input(\"Please add your name: \")\n",
    "doctor_name = make_doctor(\"Doctor \")\n",
    "\n",
    "print(doctor_name)"
   ]
  },
  {
   "cell_type": "markdown",
   "metadata": {},
   "source": [
    "#### Define `make_schedule()` adding a 3rd period to &nbsp; \n",
    "- Start with the above example code\n",
    "- add a parameter period_3\n",
    "- update function code to add period_3 to the schedule\n",
    "- call **`student_schedule()`** with an additional argument such as 'science'\n",
    "- print the schedule"
   ]
  },
  {
   "cell_type": "code",
   "execution_count": null,
   "metadata": {},
   "outputs": [],
   "source": [
    "def make_schedule(period1, period2):\n",
    "    schedule = (\"[1st] \" + period1.title() + \", [2nd] \" + period2.title())\n",
    "    return schedule\n",
    "\n",
    "student_schedule = make_schedule(\"mathematics\", \"history\")\n",
    "\n",
    "print(\"SCHEDULE:\", student_schedule)"
   ]
  },
  {
   "cell_type": "code",
   "execution_count": null,
   "metadata": {},
   "outputs": [],
   "source": [
    "# [ ] add a 3rd period parameter to make_schedule\n",
    "def make_schedule(period_1,period_2,period_3):\n",
    "    schedule = \"[1st] \"+period_1 + \" [2nd] \"+ period_2 + \" [3rd] \" + period_3\n",
    "    return schedule\n",
    "    \n",
    "student_schedule1 = make_schedule(\"Mathematics\",\"Science        \",\"History\")\n",
    "student_schedule2 = make_schedule(\"Science    \",\"Mathematics    \",\"History\")\n",
    "student_schedule3 = make_schedule(\"Mathematics\",\"History        \",\"Science\")\n",
    "student_schedule4 = make_schedule(\"History    \",\"Mathematics    \",\"Science\")\n",
    "student_schedule5 = make_schedule(\"History    \",\"Science        \",\"Mathematics\")\n",
    "student_schedule6 = make_schedule(\"Science    \",\"History        \",\"Mathematics\")\n",
    "\n",
    "# [ ] Optional - print a schedule for 6 classes (Tip: perhaps let the function make this easy)\n",
    "print(\"The schedule for the 1st class is: \" ,student_schedule1)\n",
    "print(\"The schedule for the 2st class is: \" ,student_schedule2)\n",
    "print(\"The schedule for the 3st class is: \" ,student_schedule3)\n",
    "print(\"The schedule for the 4st class is: \" ,student_schedule4)\n",
    "print(\"The schedule for the 5st class is: \" ,student_schedule5)\n",
    "print(\"The schedule for the 6st class is: \" ,student_schedule6)"
   ]
  },
  {
   "cell_type": "markdown",
   "metadata": {},
   "source": [
    "#### Program: bird_available\n",
    "The program should ask for user to **\"input a bird name to check for availability\"** and print a statement informing of availability\n",
    "#### create this program with `input()`  and a ``Boolean`` function `bird_available()`\n",
    "- has parameter that takes the name of a type of bird\n",
    "- for this exercise the variable `bird_types = 'crow robin parrot eagle sandpiper hawk piegon'`\n",
    "- return `True` or `False` (we are making a Boolean function)\n",
    "- call the function using the name of a bird type from user input\n",
    "- print a sentence that indicates the availablity of the type of bird checked"
   ]
  },
  {
   "cell_type": "code",
   "execution_count": 4,
   "metadata": {},
   "outputs": [
    {
     "name": "stdout",
     "output_type": "stream",
     "text": [
      "Insert a bird name to search: crow\n",
      "Is crow available ? : True\n"
     ]
    }
   ],
   "source": [
    "# [ ] create function bird_available\n",
    "def bird_available():\n",
    "    bird_types = 'crow robin parrot eagle sandpiper hawk piegon'\n",
    "    return bird.lower() in bird_types\n",
    "\n",
    "# [ ] user input\n",
    "bird = input(\"Insert a bird name to search: \")\n",
    "\n",
    "# [ ] call bird_available\n",
    "bird_search = str(bird_available())\n",
    "\n",
    "print(\"Is \" + bird + \" available ? : \" + bird_search)"
   ]
  },
  {
   "cell_type": "markdown",
   "metadata": {},
   "source": [
    "#### BMI Calculator\n",
    "#### Calculating body mass index "
   ]
  },
  {
   "cell_type": "code",
   "execution_count": 3,
   "metadata": {},
   "outputs": [
    {
     "name": "stdout",
     "output_type": "stream",
     "text": [
      "YK bmi:  22.5\n",
      "YK's sister bmi:  21.604938271604937\n",
      "YK's brother bmi:  25.6\n",
      "\n",
      "YK is not overweight\n",
      "YK's sister is not overweight\n",
      "YK's brother is overweight\n"
     ]
    }
   ],
   "source": [
    "# BMI calculator\n",
    "name1 = \"YK\"\n",
    "height_m1 = 2\n",
    "weight_kg1 = 90\n",
    "\n",
    "name2 = \"YK's sister\"\n",
    "height_m2 = 1.8\n",
    "weight_kg2 = 70\n",
    "\n",
    "name3 = \"YK's brother\"\n",
    "height_m3= 2.5\n",
    "weight_kg3= 160\n",
    "\n",
    "def bmi_calculator(name, height_m, weight_kg):\n",
    "    bmi = weight_kg / (height_m ** 2)\n",
    "    print (name,'bmi: ' ,bmi )\n",
    "    if bmi < 25:\n",
    "        return name +  \" is not overweight\"\n",
    "    else:\n",
    "        return name +  \" is overweight\"\n",
    "    \n",
    "    \n",
    "result1 = bmi_calculator(name1, height_m1, weight_kg1) \n",
    "result2 = bmi_calculator(name2, height_m2, weight_kg2)\n",
    "result3 = bmi_calculator(name3, height_m3, weight_kg3)\n",
    "\n",
    "print()\n",
    "print(result1)\n",
    "print(result2)\n",
    "print(result3)"
   ]
  },
  {
   "cell_type": "markdown",
   "metadata": {},
   "source": [
    "#### Convert miles to km"
   ]
  },
  {
   "cell_type": "code",
   "execution_count": null,
   "metadata": {},
   "outputs": [],
   "source": [
    "def convert_speed():\n",
    "    miles = km * 1.609\n",
    "    return  miles\n",
    "\n",
    "km=float(input(\"Enter a distance in miles: \"))\n",
    "speed_km = convert_speed()\n",
    "\n",
    "print(\"The distance in kilometers is: \", speed_km)\n"
   ]
  },
  {
   "cell_type": "code",
   "execution_count": null,
   "metadata": {},
   "outputs": [],
   "source": [
    "#input from the user \n",
    "def main():\n",
    "    miles = float(input(\"Enter a distance in miles: \"))\n",
    "    conv_fac = 1.609 #conversion factor \n",
    "    #calculating how many kilometers \n",
    "    kilometers = miles * conv_fac\n",
    "    print(\"The distance in kilometers is: \", kilometers)\n",
    "\n",
    "main()"
   ]
  },
  {
   "cell_type": "code",
   "execution_count": null,
   "metadata": {},
   "outputs": [],
   "source": [
    "# define function how_many\n",
    "def how_many():\n",
    "    requested = input(\"Enter how many you want: \")\n",
    "    return requested\n",
    "\n",
    "# get the number_needed\n",
    "\n",
    "number_needed = how_many()\n",
    "print(number_needed, \"will be ordered\")"
   ]
  },
  {
   "cell_type": "code",
   "execution_count": null,
   "metadata": {},
   "outputs": [],
   "source": [
    "def info_make(name, age, school):\n",
    "    return \"The student with name: \" + name +\" \\nAge: \" + age + \" \\nSchool: \"+ school.title()\n",
    "\n",
    "info_data=info_make(\"Geo\", \"15\", \"Ariston\")\n",
    "\n",
    "print (info_data)"
   ]
  },
  {
   "cell_type": "code",
   "execution_count": null,
   "metadata": {},
   "outputs": [],
   "source": [
    "def info_make(name, age, school):\n",
    "    return \"The student with name: \" + name.title() +\" \\nAge: \" + str(age) + \" \\nSchool: \"+ school.title()\n",
    "\n",
    "\n",
    "print(info_make(\"Tobias Ledford\", 15, \"Ark\"))"
   ]
  },
  {
   "cell_type": "markdown",
   "metadata": {},
   "source": [
    "## Program: bookstore()\n",
    "create and test bookstore()\n",
    "- **bookstore() takes 2 string arguments: book & price**\n",
    "- **bookstore returns a string in sentence form** \n",
    "- **bookstore() should call title_it_rtn()** with book parameter  \n",
    "- **gather input for book_entry and price_entry to use in calling bookstore()**\n",
    "- **print the return value of bookstore()**\n",
    ">example of output: **`Title: The Adventures Of Sherlock Holmes, costs $12.99`**"
   ]
  },
  {
   "cell_type": "code",
   "execution_count": 1,
   "metadata": {},
   "outputs": [
    {
     "name": "stdout",
     "output_type": "stream",
     "text": [
      "Enter the book name: Romeo and juliet\n",
      "Enter the price12.34\n",
      "Title:  Romeo and juliet costs $ 12.34\n"
     ]
    }
   ],
   "source": [
    "# [ ] create, call and test bookstore() function\n",
    "def book_store(name, price):\n",
    "    book_title = \"Title:  \" + name + \" costs $ \" + price\n",
    "    return book_title\n",
    "\n",
    "def get_name():\n",
    "    name_entry = input(\"Enter the book name: \")\n",
    "    return name_entry\n",
    "\n",
    "def get_price():\n",
    "    b_price = input(\"Enter the price\")\n",
    "    return b_price\n",
    "\n",
    " # call the function with four ways\n",
    "    \n",
    "    # 1st \n",
    "print(book_store(get_name(), get_price())) \n",
    "    \n"
   ]
  },
  {
   "cell_type": "markdown",
   "metadata": {},
   "source": [
    "#### Program: True False Quiz Function\n",
    "Call the tf_quiz function with 2 arguments\n",
    "- T/F question string \n",
    "- answer key string like \"T\"  \n",
    "\n",
    "Return a string: \"correct\" or incorrect\"\n",
    "\n",
    "#### Define and use `tf_quiz()` function  \n",
    "- **`tf_quiz()`** has **2 parameters** which are both string arguments  \n",
    "  - **`question`**: a string containg a T/F question like \"Should save your notebook after edit?(T/F): \"  \n",
    "  - **`correct_ans`**: a string indicating the *correct answer*, either **\"T\"** or **\"F\"** \n",
    "- **`tf_quiz()`** returns a string:  \"correct\" or \"incorrect\"\n",
    "- Test tf_quiz(): **create a T/F question** (*or several!*) to **call tf_quiz()**  \n"
   ]
  },
  {
   "cell_type": "code",
   "execution_count": null,
   "metadata": {},
   "outputs": [],
   "source": [
    "def tf_quiz(question, correct_ans):\n",
    "    get_q = \"T/F \" + question + \" : \"\n",
    "    get_a = input (get_q)\n",
    "    if get_a.lower() == correct_ans.lower():\n",
    "        return  get_a.upper() + \" and this is correct\"\n",
    "    else :\n",
    "        return  get_a.upper() + \" and this is incorrect\"\n",
    "        \n",
    "\n",
    "quiz_end_1=tf_quiz(\"There are two suns on Tatooine\", \"T\")\n",
    "print(\"Your answer is \" + quiz_end_1)\n",
    "\n",
    "quiz_end_2=tf_quiz(\"Should save your notebook after edit \", \"T\")\n",
    "print(\"Your answer is \" + quiz_end_2)"
   ]
  },
  {
   "cell_type": "markdown",
   "metadata": {},
   "source": [
    "<font size=\"4\" color=\"#B24C00\"  face=\"verdana\"> <B>Task 2</B></font>\n",
    "#### Program: `pre_word()` Function\n",
    "Function has a single string parameter that it checks s is a single word starting with \"pre\"\n",
    "- Check if word starts with \"pre\"\n",
    "- Check if word .isalpha() \n",
    "- if all checks pass: return **`True`**\n",
    "- if any checks fail: return **`False`**\n",
    "- **Test** \n",
    "  - get input using the directions: *enter a word that starts with \"pre\": *\n",
    "  - call pre_word() with the input string\n",
    "  - test **if** return value is **`False`** and print message explaining not a \"pre\" word \n",
    "  - **else** print message explaining is a valid \"pre\" word"
   ]
  },
  {
   "cell_type": "code",
   "execution_count": 4,
   "metadata": {},
   "outputs": [
    {
     "name": "stdout",
     "output_type": "stream",
     "text": [
      "Enter a word that starts with \"pre\": preload\n",
      "The word  preload is  a valid \"pre\" word\n"
     ]
    }
   ],
   "source": [
    "# [ ] create and test pre_word()\n",
    "word = input(\"Enter a word that starts with \\\"pre\\\": \")\n",
    "\n",
    "def pre_word(word):\n",
    "    if word.lower().startswith(\"pre\"):\n",
    "        return True\n",
    "        if word.lower().isalpha():\n",
    "            return True\n",
    "\n",
    "if pre_word(word) is True:\n",
    "    print(\"The word \", word, \"is  a valid \\\"pre\\\" word\")  \n",
    "else:\n",
    "    print(\"The word \", word, \"is not a valid \\\"pre\\\" word\")"
   ]
  },
  {
   "cell_type": "markdown",
   "metadata": {},
   "source": [
    "### Program: shirt order \n",
    "First get input for color and size  \n",
    "- White has sizes L, M \n",
    "- Blue has sizes M, S  \n",
    "\n",
    "print available or unavailable, then  \n",
    "print the order confirmation of color and size  \n",
    "\n",
    "*\n",
    "**hint**: set a variable \"available = False\" before nested if statements and  \n",
    "change to True if color and size are avaliable*"
   ]
  },
  {
   "cell_type": "code",
   "execution_count": 9,
   "metadata": {},
   "outputs": [
    {
     "name": "stdout",
     "output_type": "stream",
     "text": [
      "Enter the color: White, or Blue: blue\n",
      "Enter the size:  (S, M, L) l\n",
      "The shirt color Blue size L is unavailable\n"
     ]
    }
   ],
   "source": [
    "# [ ] create shirt order using nested if \n",
    "color = input(\"Enter the color: White, or Blue: \")\n",
    "size = input(\"Enter the size:  (S, M, L) \")\n",
    "\n",
    "available = False\n",
    "\n",
    "if color.lower() == \"white\" and size.lower() == \"m\":\n",
    "    available = True\n",
    "    if color.lower() == \"white\" and size.lower() == \"l\":\n",
    "        available = True\n",
    "if color.lower() == \"blue\" and size.lower() == \"s\":\n",
    "    available = True\n",
    "    if color.lower() == \"blue\" and  size.lower() == \"m\":  \n",
    "        available = True\n",
    "        \n",
    "if available:\n",
    "    print(\"The shirt color \" + color.capitalize() + \" size \" + size.capitalize() +  \" is available\")\n",
    "else:\n",
    "    print(\"The shirt color \" + color.capitalize() + \" size \" + size.capitalize() +  \" is unavailable\")"
   ]
  },
  {
   "cell_type": "markdown",
   "metadata": {},
   "source": [
    "### Program: ticket_check() - finds out if a seat is available  \n",
    "Call ticket_check() function with 2 arguments: *section* and *seats* requested and return True or False  \n",
    "- **section** is a string and expects: general, floor\n",
    "- **seats** is an integer and expects: 1 - 10  \n",
    "\n",
    "Check for valid section and seats\n",
    "- if section is *general* (or use startswith \"g\")  \n",
    "  - if seats is 1-10 return True \n",
    "- if section is *floor* (or use starts with \"f\")\n",
    "  - if seats is 1-4 return True  \n",
    "\n",
    "otherwise return False"
   ]
  },
  {
   "cell_type": "code",
   "execution_count": null,
   "metadata": {},
   "outputs": [],
   "source": [
    "def ticket_check(section, seats):\n",
    "    if section.lower().startswith(\"g\") or section == \"general\" :\n",
    "        if int(seats) >= 1 and int(seats) <= 10:\n",
    "            return True\n",
    "    elif  section.lower().startswith(\"f\") or section == \"floor\" :\n",
    "           if int(seats) >= 1 and int(seats) <= 4:\n",
    "            return True    \n",
    "    else:\n",
    "        return False\n",
    "    \n",
    "\n",
    "section = input(\"Enter \\'G\\' for general or \\'F\\' for floor section: \")\n",
    "seats = input(\"Enter an number 1-10: \")    \n",
    "    \n",
    "if ticket_check(section,seats) is True:\n",
    "    print(\"The seat No\", str(seats), \" at section \", section.capitalize(), \" is available\")\n",
    "else:\n",
    "    print(\"The seat No\", str(seats), \" at section \", section.capitalize(), \" is unavailable\")"
   ]
  },
  {
   "cell_type": "code",
   "execution_count": null,
   "metadata": {},
   "outputs": [],
   "source": [
    "\"\"\"\"\"\"\"\"\"\"\"\"\"\"\"\"\"\"\"\"\"\"\"\"\"\"\"\"\"\"\"\"\"\"\"\"\"\"\"\"\"\"\"\"\"\"\"\"\"\"\"\"\"\"\"\n",
    "#### OR ####\n",
    "\"\"\"\"\"\"\"\"\"\"\"\"\"\"\"\"\"\"\"\"\"\"\"\"\"\"\"\"\"\"\"\"\"\"\"\"\"\"\"\"\"\"\"\"\"\"\"\"\"\"\n",
    "\n",
    "def ticket_check(section, seats):\n",
    "    if section.startswith(\"g\") or section == \"general\":\n",
    "        if seats.isdigit():\n",
    "            int_seats = int(seats)\n",
    "            if int_seats >= 1 and int_seats <= 10:\n",
    "                return True\n",
    "    elif section.startswith(\"f\") or section == \"floor\":\n",
    "        if seats.isdigit():\n",
    "            int_seats = int(seats)\n",
    "            if int_seats >= 1 and int_seats <= 4:\n",
    "                return True\n",
    "    else:\n",
    "        return False\n",
    "    \n",
    "\n",
    "available_seat = ticket_check(input(\"Enter section: \").lower(), input(\"Enter seat no.: \"))\n",
    "\n",
    "if available_seat:\n",
    "    print(\"Your seat is Available.\")\n",
    "else:\n",
    "    print(\"Your seat is NOT Available.\")"
   ]
  },
  {
   "cell_type": "markdown",
   "metadata": {},
   "source": [
    "### create a function: quiz_item()  that asks a question and tests if input is correct  \n",
    "- quiz_item()has 2 parameter **strings**: question and solution  \n",
    "- shows question, gets answer input  \n",
    "- returns True if `answer == solution` or continues to ask question until correct answer is provided  \n",
    "- use a while loop\n",
    "\n",
    "create 2 or more quiz questions that call quiz_item()  \n",
    "**Hint**: provide multiple choice or T/F answers"
   ]
  },
  {
   "cell_type": "code",
   "execution_count": null,
   "metadata": {},
   "outputs": [],
   "source": [
    "# Create quiz_item() and 2 or more quiz questions that call quiz_item()\n",
    " \n",
    "def quiz_item(question, solution):\n",
    "    print(question)\n",
    "    while True:\n",
    "        answer = input(\"Enter your answer: Y/N:  \")\n",
    "        if answer == solution:\n",
    "            print(\"Yes! The answer is correct!\")\n",
    "            break\n",
    "            return True\n",
    "        else:\n",
    "            print(\"Sorry, wrong answer. Try again!\")\n",
    "    \n",
    "question =  \" The color of winter Bear is white; \" \n",
    "solution = \"y\"\n",
    "quiz_item(question, solution)\n",
    "question =  \"The Greece has islands;\"\n",
    "solution = \"y\"\n",
    "quiz_item(question, solution)"
   ]
  },
  {
   "cell_type": "markdown",
   "metadata": {},
   "source": [
    "#### `while` with comparison operator \n",
    "#### Program: Animal Names\n",
    "- Use **`while`** to get the user input, animal_name, of 4 animals \n",
    "  - use a counter, num_animals, in the while loop condition\n",
    "  - append the names to a string variable, all_animals\n",
    "  - User can exit early by typing \"exit\" (check if animal_name is \"exit\" and break)\n",
    "- when the loop finishes, print the names of all_animals\n",
    "\n",
    "-bonus: print \"no animals\" if animal_name is empty after exiting the loop\n",
    "\n",
    "**Tip:** Think about Sequence and variables that need to be initialized before the while loop"
   ]
  },
  {
   "cell_type": "code",
   "execution_count": 2,
   "metadata": {},
   "outputs": [
    {
     "name": "stdout",
     "output_type": "stream",
     "text": [
      "Enter an animal type or 'exit' for early exit : exit\n",
      "Exiting...\n",
      "The results: \n"
     ]
    }
   ],
   "source": [
    "# [ ] Create the Animal Names program, run tests\n",
    "num_animal = 4\n",
    "all_animals = \"\"\n",
    "\n",
    "while num_animal > 0:\n",
    "    animal_name = input(\"Enter an animal type or 'exit' for early exit : \")\n",
    "    if animal_name == \"exit\":\n",
    "        print (\"Exiting...\")\n",
    "        break\n",
    "    else:\n",
    "        all_animals = all_animals +   \" \" + animal_name\n",
    "        num_animal -= 1\n",
    "        \n",
    "if animal_name == \"\":\n",
    "    print(all_animals + \"No animals\")\n",
    "else:\n",
    "    print(\"The results: \" + all_animals) \n"
   ]
  },
  {
   "cell_type": "markdown",
   "metadata": {},
   "source": [
    "### Nested `if` - testing for `False`\n",
    "#### Program:  [ ] 3 Guesses\n",
    "- use nested if statements complete the flowchart code\n",
    "- create a **`birds`** string variable with the names of 1, 2, 3 or more birds to make it easier\n",
    "- get **`bird_guess`** input and use **`bird_guess in bird_names`** to generate Boolean True/False\n",
    "- if the the guess is wrong (**`False`**) create a sub test until the user has had 3 guesses\n",
    "  \n",
    "|3 Guesses (\"Guess the Bird\") flowchart  |\n",
    "| ------ | \n",
    "| ![Image of Guess the Bird flowchart](https://iajupyterprodblobs.blob.core.windows.net/imagecontainer/flowchart_guess_the_bird.png)   | "
   ]
  },
  {
   "cell_type": "code",
   "execution_count": null,
   "metadata": {},
   "outputs": [],
   "source": [
    "# [ ] Create the \"Guess the bird\" program \n",
    "\n",
    "birds_name = \"Eagle, Crow, Parrot, Owl\"\n",
    "print (\"Hi, welcome to the 'Guess the bird' game.  Please make your guess.\")\n",
    "print()\n",
    "bird_guess= input('Start: Guess the bird ')\n",
    "print(bird_guess.title())\n",
    "if (bird_guess.lower() in birds_name.lower()) == False:\n",
    "    print()\n",
    "    print(\"Sorry,your first guess is not correct we don't have this\", bird_guess)\n",
    "    bird_guess1 = input('Try again: ')\n",
    "  \n",
    "    if (bird_guess1.lower() in birds_name.lower()) == False:\n",
    "        print() \n",
    "        print(\"Sorry, your second guess is not correct we don't have this\", bird_guess1)\n",
    "        bird_guess2 = input('Try again: ')\n",
    "        print()\n",
    "    \n",
    "        if (bird_guess2.lower() in birds_name.lower()) == False:\n",
    "            print()\n",
    "            print(\"Sorry, your third guess is not correct, we don't have this \", bird_guess2)\n",
    "            bird_guess3 = input(\"Try again: \")\n",
    "            print()\n",
    "            \n",
    "            if (bird_guess3.lower() in birds_name.lower()) == False:\n",
    "                print()\n",
    "                print(\"Sorry, your last guess is not correct, we don't have this \", bird_guess3)\n",
    "            else:\n",
    "                print(\"Yes correct\")\n",
    "        else:\n",
    "            print(\"Yes correct\")\n",
    "    else:\n",
    "        print(\"Yes correct\")\n",
    "else:\n",
    "     print(\"Yes correct\")\n",
    "    \n",
    "print()\n",
    "print(\"Goodbye!\")"
   ]
  }
 ],
 "metadata": {
  "kernelspec": {
   "display_name": "Python 3",
   "language": "python",
   "name": "python3"
  },
  "language_info": {
   "codemirror_mode": {
    "name": "ipython",
    "version": 3
   },
   "file_extension": ".py",
   "mimetype": "text/x-python",
   "name": "python",
   "nbconvert_exporter": "python",
   "pygments_lexer": "ipython3",
   "version": "3.7.6"
  }
 },
 "nbformat": 4,
 "nbformat_minor": 1
}
